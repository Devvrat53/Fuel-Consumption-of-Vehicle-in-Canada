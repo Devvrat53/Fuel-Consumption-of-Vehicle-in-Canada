{
 "cells": [
  {
   "cell_type": "markdown",
   "metadata": {},
   "source": [
    "# Fuel Consumption 2019 Dataset Canada"
   ]
  },
  {
   "cell_type": "code",
   "execution_count": 1,
   "metadata": {},
   "outputs": [],
   "source": [
    "import matplotlib.pyplot as plt\n",
    "import pandas as pd\n",
    "import numpy as np\n",
    "import seaborn as sns"
   ]
  },
  {
   "cell_type": "code",
   "execution_count": 2,
   "metadata": {},
   "outputs": [],
   "source": [
    "df = pd.read_csv(\"MY2019 Fuel Consumption Ratings.csv\")"
   ]
  },
  {
   "cell_type": "code",
   "execution_count": 3,
   "metadata": {},
   "outputs": [],
   "source": [
    "# Does not restrict the maximum column or filter it to fit the size of the display\n",
    "pd.set_option('display.max_columns', None)\n",
    "pd.set_option('display.max_rows', None)"
   ]
  },
  {
   "cell_type": "code",
   "execution_count": 4,
   "metadata": {},
   "outputs": [
    {
     "data": {
      "text/html": [
       "<div>\n",
       "<style scoped>\n",
       "    .dataframe tbody tr th:only-of-type {\n",
       "        vertical-align: middle;\n",
       "    }\n",
       "\n",
       "    .dataframe tbody tr th {\n",
       "        vertical-align: top;\n",
       "    }\n",
       "\n",
       "    .dataframe thead th {\n",
       "        text-align: right;\n",
       "    }\n",
       "</style>\n",
       "<table border=\"1\" class=\"dataframe\">\n",
       "  <thead>\n",
       "    <tr style=\"text-align: right;\">\n",
       "      <th></th>\n",
       "      <th>Model_Year</th>\n",
       "      <th>Make</th>\n",
       "      <th>Model</th>\n",
       "      <th>Vehicle_Class</th>\n",
       "      <th>Engine_Size (L)</th>\n",
       "      <th>Cylinders</th>\n",
       "      <th>Transmission</th>\n",
       "      <th>Fuel_Type</th>\n",
       "      <th>Fuel_Consumption_City</th>\n",
       "      <th>Fuel_Consumption_Hwy</th>\n",
       "      <th>Fuel_Consumption_Comb</th>\n",
       "      <th>Fuel_Consumption_Comb_MPG</th>\n",
       "      <th>CO2_Emissions</th>\n",
       "      <th>CO2_Rating</th>\n",
       "      <th>Smog_Rating</th>\n",
       "    </tr>\n",
       "  </thead>\n",
       "  <tbody>\n",
       "    <tr>\n",
       "      <th>0</th>\n",
       "      <td>2019</td>\n",
       "      <td>Acura</td>\n",
       "      <td>ILX</td>\n",
       "      <td>Compact</td>\n",
       "      <td>2.4</td>\n",
       "      <td>4</td>\n",
       "      <td>AM8</td>\n",
       "      <td>Z</td>\n",
       "      <td>9.9</td>\n",
       "      <td>7.0</td>\n",
       "      <td>8.6</td>\n",
       "      <td>33</td>\n",
       "      <td>199</td>\n",
       "      <td>6</td>\n",
       "      <td>3</td>\n",
       "    </tr>\n",
       "    <tr>\n",
       "      <th>1</th>\n",
       "      <td>2019</td>\n",
       "      <td>Acura</td>\n",
       "      <td>MDX SH-AWD</td>\n",
       "      <td>SUV: Small</td>\n",
       "      <td>3.5</td>\n",
       "      <td>6</td>\n",
       "      <td>AS9</td>\n",
       "      <td>Z</td>\n",
       "      <td>12.2</td>\n",
       "      <td>9.0</td>\n",
       "      <td>10.8</td>\n",
       "      <td>26</td>\n",
       "      <td>252</td>\n",
       "      <td>4</td>\n",
       "      <td>3</td>\n",
       "    </tr>\n",
       "    <tr>\n",
       "      <th>2</th>\n",
       "      <td>2019</td>\n",
       "      <td>Acura</td>\n",
       "      <td>MDX SH-AWD A-SPEC</td>\n",
       "      <td>SUV: Small</td>\n",
       "      <td>3.5</td>\n",
       "      <td>6</td>\n",
       "      <td>AS9</td>\n",
       "      <td>Z</td>\n",
       "      <td>12.2</td>\n",
       "      <td>9.5</td>\n",
       "      <td>11.0</td>\n",
       "      <td>26</td>\n",
       "      <td>258</td>\n",
       "      <td>4</td>\n",
       "      <td>3</td>\n",
       "    </tr>\n",
       "    <tr>\n",
       "      <th>3</th>\n",
       "      <td>2019</td>\n",
       "      <td>Acura</td>\n",
       "      <td>MDX Hybrid AWD</td>\n",
       "      <td>SUV: Small</td>\n",
       "      <td>3.0</td>\n",
       "      <td>6</td>\n",
       "      <td>AM7</td>\n",
       "      <td>Z</td>\n",
       "      <td>9.1</td>\n",
       "      <td>9.0</td>\n",
       "      <td>9.0</td>\n",
       "      <td>31</td>\n",
       "      <td>210</td>\n",
       "      <td>5</td>\n",
       "      <td>3</td>\n",
       "    </tr>\n",
       "    <tr>\n",
       "      <th>4</th>\n",
       "      <td>2019</td>\n",
       "      <td>Acura</td>\n",
       "      <td>NSX</td>\n",
       "      <td>Two-seater</td>\n",
       "      <td>3.5</td>\n",
       "      <td>6</td>\n",
       "      <td>AM9</td>\n",
       "      <td>Z</td>\n",
       "      <td>11.1</td>\n",
       "      <td>10.8</td>\n",
       "      <td>11.0</td>\n",
       "      <td>26</td>\n",
       "      <td>261</td>\n",
       "      <td>4</td>\n",
       "      <td>3</td>\n",
       "    </tr>\n",
       "  </tbody>\n",
       "</table>\n",
       "</div>"
      ],
      "text/plain": [
       "   Model_Year   Make              Model Vehicle_Class  Engine_Size (L)  \\\n",
       "0        2019  Acura                ILX       Compact              2.4   \n",
       "1        2019  Acura         MDX SH-AWD    SUV: Small              3.5   \n",
       "2        2019  Acura  MDX SH-AWD A-SPEC    SUV: Small              3.5   \n",
       "3        2019  Acura     MDX Hybrid AWD    SUV: Small              3.0   \n",
       "4        2019  Acura                NSX    Two-seater              3.5   \n",
       "\n",
       "   Cylinders Transmission Fuel_Type  Fuel_Consumption_City  \\\n",
       "0          4          AM8         Z                    9.9   \n",
       "1          6          AS9         Z                   12.2   \n",
       "2          6          AS9         Z                   12.2   \n",
       "3          6          AM7         Z                    9.1   \n",
       "4          6          AM9         Z                   11.1   \n",
       "\n",
       "   Fuel_Consumption_Hwy  Fuel_Consumption_Comb  Fuel_Consumption_Comb_MPG  \\\n",
       "0                   7.0                    8.6                         33   \n",
       "1                   9.0                   10.8                         26   \n",
       "2                   9.5                   11.0                         26   \n",
       "3                   9.0                    9.0                         31   \n",
       "4                  10.8                   11.0                         26   \n",
       "\n",
       "   CO2_Emissions  CO2_Rating  Smog_Rating  \n",
       "0            199           6            3  \n",
       "1            252           4            3  \n",
       "2            258           4            3  \n",
       "3            210           5            3  \n",
       "4            261           4            3  "
      ]
     },
     "execution_count": 4,
     "metadata": {},
     "output_type": "execute_result"
    }
   ],
   "source": [
    "df.head()"
   ]
  },
  {
   "cell_type": "markdown",
   "metadata": {},
   "source": [
    "#### Please the data description file for better understanding"
   ]
  },
  {
   "cell_type": "markdown",
   "metadata": {},
   "source": [
    "- **Model_Year** e.g. 2014\n",
    "- **Make** e.g. Acura\n",
    "- **Model** e.g. ILX\n",
    "- **Vehicle_Class** e.g. SUV\n",
    "- **Engine_Size** e.g. 4.7\n",
    "- **Cylinders** e.g 6\n",
    "- **Transmission** e.g. A6\n",
    "- **Fuel_Type** e.g Z=premium gasoline, d=diesel\n",
    "- **Fuel_Consumption_City (L/100 km)** e.g. 9.9\n",
    "- **Fuel_Consumption_Hwy (L/100 km)** e.g. 8.9\n",
    "- **Fuel_Consumption_Comb (L/100 km)** e.g. 9.2\n",
    "- **Fuel_Consumption_Comb_MPG**\n",
    "- **CO2 Emissions (g/km)** e.g. 182   --> low --> 0\n",
    "- **CO2 Rating** In the range of 1-10\n",
    "- **Smog_Rating** In the range of 1-10"
   ]
  },
  {
   "cell_type": "code",
   "execution_count": 5,
   "metadata": {},
   "outputs": [
    {
     "data": {
      "text/html": [
       "<div>\n",
       "<style scoped>\n",
       "    .dataframe tbody tr th:only-of-type {\n",
       "        vertical-align: middle;\n",
       "    }\n",
       "\n",
       "    .dataframe tbody tr th {\n",
       "        vertical-align: top;\n",
       "    }\n",
       "\n",
       "    .dataframe thead th {\n",
       "        text-align: right;\n",
       "    }\n",
       "</style>\n",
       "<table border=\"1\" class=\"dataframe\">\n",
       "  <thead>\n",
       "    <tr style=\"text-align: right;\">\n",
       "      <th></th>\n",
       "      <th>Model_Year</th>\n",
       "      <th>Make</th>\n",
       "      <th>Model</th>\n",
       "      <th>Vehicle_Class</th>\n",
       "      <th>Engine_Size (L)</th>\n",
       "      <th>Cylinders</th>\n",
       "      <th>Transmission</th>\n",
       "      <th>Fuel_Type</th>\n",
       "      <th>Fuel_Consumption_City</th>\n",
       "      <th>Fuel_Consumption_Hwy</th>\n",
       "      <th>Fuel_Consumption_Comb</th>\n",
       "      <th>Fuel_Consumption_Comb_MPG</th>\n",
       "      <th>CO2_Emissions</th>\n",
       "      <th>CO2_Rating</th>\n",
       "      <th>Smog_Rating</th>\n",
       "    </tr>\n",
       "  </thead>\n",
       "  <tbody>\n",
       "    <tr>\n",
       "      <th>1041</th>\n",
       "      <td>2019</td>\n",
       "      <td>Volvo</td>\n",
       "      <td>XC40 T5 AWD</td>\n",
       "      <td>SUV: Small</td>\n",
       "      <td>2.0</td>\n",
       "      <td>4</td>\n",
       "      <td>AS8</td>\n",
       "      <td>Z</td>\n",
       "      <td>10.3</td>\n",
       "      <td>7.5</td>\n",
       "      <td>9.0</td>\n",
       "      <td>31</td>\n",
       "      <td>211</td>\n",
       "      <td>5</td>\n",
       "      <td>5</td>\n",
       "    </tr>\n",
       "    <tr>\n",
       "      <th>1042</th>\n",
       "      <td>2019</td>\n",
       "      <td>Volvo</td>\n",
       "      <td>XC60 T5 AWD</td>\n",
       "      <td>SUV: Small</td>\n",
       "      <td>2.0</td>\n",
       "      <td>4</td>\n",
       "      <td>AS8</td>\n",
       "      <td>Z</td>\n",
       "      <td>11.3</td>\n",
       "      <td>8.5</td>\n",
       "      <td>10.0</td>\n",
       "      <td>28</td>\n",
       "      <td>233</td>\n",
       "      <td>5</td>\n",
       "      <td>5</td>\n",
       "    </tr>\n",
       "    <tr>\n",
       "      <th>1043</th>\n",
       "      <td>2019</td>\n",
       "      <td>Volvo</td>\n",
       "      <td>XC60 T6 AWD</td>\n",
       "      <td>SUV: Small</td>\n",
       "      <td>2.0</td>\n",
       "      <td>4</td>\n",
       "      <td>AS8</td>\n",
       "      <td>Z</td>\n",
       "      <td>11.8</td>\n",
       "      <td>8.6</td>\n",
       "      <td>10.4</td>\n",
       "      <td>27</td>\n",
       "      <td>242</td>\n",
       "      <td>5</td>\n",
       "      <td>7</td>\n",
       "    </tr>\n",
       "    <tr>\n",
       "      <th>1044</th>\n",
       "      <td>2019</td>\n",
       "      <td>Volvo</td>\n",
       "      <td>XC90 T5 AWD</td>\n",
       "      <td>SUV: Standard</td>\n",
       "      <td>2.0</td>\n",
       "      <td>4</td>\n",
       "      <td>AS8</td>\n",
       "      <td>Z</td>\n",
       "      <td>11.3</td>\n",
       "      <td>8.5</td>\n",
       "      <td>10.0</td>\n",
       "      <td>28</td>\n",
       "      <td>233</td>\n",
       "      <td>5</td>\n",
       "      <td>5</td>\n",
       "    </tr>\n",
       "    <tr>\n",
       "      <th>1045</th>\n",
       "      <td>2019</td>\n",
       "      <td>Volvo</td>\n",
       "      <td>XC90 T6 AWD</td>\n",
       "      <td>SUV: Standard</td>\n",
       "      <td>2.0</td>\n",
       "      <td>4</td>\n",
       "      <td>AS8</td>\n",
       "      <td>Z</td>\n",
       "      <td>12.1</td>\n",
       "      <td>8.9</td>\n",
       "      <td>10.7</td>\n",
       "      <td>26</td>\n",
       "      <td>250</td>\n",
       "      <td>4</td>\n",
       "      <td>7</td>\n",
       "    </tr>\n",
       "  </tbody>\n",
       "</table>\n",
       "</div>"
      ],
      "text/plain": [
       "      Model_Year   Make        Model  Vehicle_Class  Engine_Size (L)  \\\n",
       "1041        2019  Volvo  XC40 T5 AWD     SUV: Small              2.0   \n",
       "1042        2019  Volvo  XC60 T5 AWD     SUV: Small              2.0   \n",
       "1043        2019  Volvo  XC60 T6 AWD     SUV: Small              2.0   \n",
       "1044        2019  Volvo  XC90 T5 AWD  SUV: Standard              2.0   \n",
       "1045        2019  Volvo  XC90 T6 AWD  SUV: Standard              2.0   \n",
       "\n",
       "      Cylinders Transmission Fuel_Type  Fuel_Consumption_City  \\\n",
       "1041          4          AS8         Z                   10.3   \n",
       "1042          4          AS8         Z                   11.3   \n",
       "1043          4          AS8         Z                   11.8   \n",
       "1044          4          AS8         Z                   11.3   \n",
       "1045          4          AS8         Z                   12.1   \n",
       "\n",
       "      Fuel_Consumption_Hwy  Fuel_Consumption_Comb  Fuel_Consumption_Comb_MPG  \\\n",
       "1041                   7.5                    9.0                         31   \n",
       "1042                   8.5                   10.0                         28   \n",
       "1043                   8.6                   10.4                         27   \n",
       "1044                   8.5                   10.0                         28   \n",
       "1045                   8.9                   10.7                         26   \n",
       "\n",
       "      CO2_Emissions  CO2_Rating  Smog_Rating  \n",
       "1041            211           5            5  \n",
       "1042            233           5            5  \n",
       "1043            242           5            7  \n",
       "1044            233           5            5  \n",
       "1045            250           4            7  "
      ]
     },
     "execution_count": 5,
     "metadata": {},
     "output_type": "execute_result"
    }
   ],
   "source": [
    "df.tail()"
   ]
  },
  {
   "cell_type": "code",
   "execution_count": 6,
   "metadata": {},
   "outputs": [
    {
     "data": {
      "text/html": [
       "<div>\n",
       "<style scoped>\n",
       "    .dataframe tbody tr th:only-of-type {\n",
       "        vertical-align: middle;\n",
       "    }\n",
       "\n",
       "    .dataframe tbody tr th {\n",
       "        vertical-align: top;\n",
       "    }\n",
       "\n",
       "    .dataframe thead th {\n",
       "        text-align: right;\n",
       "    }\n",
       "</style>\n",
       "<table border=\"1\" class=\"dataframe\">\n",
       "  <thead>\n",
       "    <tr style=\"text-align: right;\">\n",
       "      <th></th>\n",
       "      <th>Model_Year</th>\n",
       "      <th>Engine_Size (L)</th>\n",
       "      <th>Cylinders</th>\n",
       "      <th>Fuel_Consumption_City</th>\n",
       "      <th>Fuel_Consumption_Hwy</th>\n",
       "      <th>Fuel_Consumption_Comb</th>\n",
       "      <th>Fuel_Consumption_Comb_MPG</th>\n",
       "      <th>CO2_Emissions</th>\n",
       "      <th>CO2_Rating</th>\n",
       "      <th>Smog_Rating</th>\n",
       "    </tr>\n",
       "  </thead>\n",
       "  <tbody>\n",
       "    <tr>\n",
       "      <th>count</th>\n",
       "      <td>1046.0</td>\n",
       "      <td>1046.000000</td>\n",
       "      <td>1046.000000</td>\n",
       "      <td>1046.000000</td>\n",
       "      <td>1046.000000</td>\n",
       "      <td>1046.000000</td>\n",
       "      <td>1046.000000</td>\n",
       "      <td>1046.000000</td>\n",
       "      <td>1046.000000</td>\n",
       "      <td>1046.000000</td>\n",
       "    </tr>\n",
       "    <tr>\n",
       "      <th>mean</th>\n",
       "      <td>2019.0</td>\n",
       "      <td>3.108795</td>\n",
       "      <td>5.595602</td>\n",
       "      <td>12.378489</td>\n",
       "      <td>9.038432</td>\n",
       "      <td>10.871511</td>\n",
       "      <td>27.636711</td>\n",
       "      <td>251.311663</td>\n",
       "      <td>4.558317</td>\n",
       "      <td>4.136711</td>\n",
       "    </tr>\n",
       "    <tr>\n",
       "      <th>std</th>\n",
       "      <td>0.0</td>\n",
       "      <td>1.315989</td>\n",
       "      <td>1.796845</td>\n",
       "      <td>3.294506</td>\n",
       "      <td>2.049879</td>\n",
       "      <td>2.696681</td>\n",
       "      <td>7.314268</td>\n",
       "      <td>57.017603</td>\n",
       "      <td>1.651429</td>\n",
       "      <td>1.789777</td>\n",
       "    </tr>\n",
       "    <tr>\n",
       "      <th>min</th>\n",
       "      <td>2019.0</td>\n",
       "      <td>1.000000</td>\n",
       "      <td>3.000000</td>\n",
       "      <td>4.200000</td>\n",
       "      <td>4.000000</td>\n",
       "      <td>4.100000</td>\n",
       "      <td>13.000000</td>\n",
       "      <td>96.000000</td>\n",
       "      <td>1.000000</td>\n",
       "      <td>1.000000</td>\n",
       "    </tr>\n",
       "    <tr>\n",
       "      <th>25%</th>\n",
       "      <td>2019.0</td>\n",
       "      <td>2.000000</td>\n",
       "      <td>4.000000</td>\n",
       "      <td>10.200000</td>\n",
       "      <td>7.600000</td>\n",
       "      <td>9.100000</td>\n",
       "      <td>23.000000</td>\n",
       "      <td>212.250000</td>\n",
       "      <td>3.000000</td>\n",
       "      <td>3.000000</td>\n",
       "    </tr>\n",
       "    <tr>\n",
       "      <th>50%</th>\n",
       "      <td>2019.0</td>\n",
       "      <td>3.000000</td>\n",
       "      <td>6.000000</td>\n",
       "      <td>12.050000</td>\n",
       "      <td>8.800000</td>\n",
       "      <td>10.600000</td>\n",
       "      <td>27.000000</td>\n",
       "      <td>248.000000</td>\n",
       "      <td>4.000000</td>\n",
       "      <td>5.000000</td>\n",
       "    </tr>\n",
       "    <tr>\n",
       "      <th>75%</th>\n",
       "      <td>2019.0</td>\n",
       "      <td>3.600000</td>\n",
       "      <td>6.000000</td>\n",
       "      <td>14.300000</td>\n",
       "      <td>10.200000</td>\n",
       "      <td>12.500000</td>\n",
       "      <td>31.000000</td>\n",
       "      <td>289.000000</td>\n",
       "      <td>5.000000</td>\n",
       "      <td>5.000000</td>\n",
       "    </tr>\n",
       "    <tr>\n",
       "      <th>max</th>\n",
       "      <td>2019.0</td>\n",
       "      <td>8.000000</td>\n",
       "      <td>16.000000</td>\n",
       "      <td>26.800000</td>\n",
       "      <td>17.200000</td>\n",
       "      <td>22.200000</td>\n",
       "      <td>69.000000</td>\n",
       "      <td>522.000000</td>\n",
       "      <td>10.000000</td>\n",
       "      <td>7.000000</td>\n",
       "    </tr>\n",
       "  </tbody>\n",
       "</table>\n",
       "</div>"
      ],
      "text/plain": [
       "       Model_Year  Engine_Size (L)    Cylinders  Fuel_Consumption_City  \\\n",
       "count      1046.0      1046.000000  1046.000000            1046.000000   \n",
       "mean       2019.0         3.108795     5.595602              12.378489   \n",
       "std           0.0         1.315989     1.796845               3.294506   \n",
       "min        2019.0         1.000000     3.000000               4.200000   \n",
       "25%        2019.0         2.000000     4.000000              10.200000   \n",
       "50%        2019.0         3.000000     6.000000              12.050000   \n",
       "75%        2019.0         3.600000     6.000000              14.300000   \n",
       "max        2019.0         8.000000    16.000000              26.800000   \n",
       "\n",
       "       Fuel_Consumption_Hwy  Fuel_Consumption_Comb  Fuel_Consumption_Comb_MPG  \\\n",
       "count           1046.000000            1046.000000                1046.000000   \n",
       "mean               9.038432              10.871511                  27.636711   \n",
       "std                2.049879               2.696681                   7.314268   \n",
       "min                4.000000               4.100000                  13.000000   \n",
       "25%                7.600000               9.100000                  23.000000   \n",
       "50%                8.800000              10.600000                  27.000000   \n",
       "75%               10.200000              12.500000                  31.000000   \n",
       "max               17.200000              22.200000                  69.000000   \n",
       "\n",
       "       CO2_Emissions   CO2_Rating  Smog_Rating  \n",
       "count    1046.000000  1046.000000  1046.000000  \n",
       "mean      251.311663     4.558317     4.136711  \n",
       "std        57.017603     1.651429     1.789777  \n",
       "min        96.000000     1.000000     1.000000  \n",
       "25%       212.250000     3.000000     3.000000  \n",
       "50%       248.000000     4.000000     5.000000  \n",
       "75%       289.000000     5.000000     5.000000  \n",
       "max       522.000000    10.000000     7.000000  "
      ]
     },
     "execution_count": 6,
     "metadata": {},
     "output_type": "execute_result"
    }
   ],
   "source": [
    "df.describe()"
   ]
  },
  {
   "cell_type": "code",
   "execution_count": 7,
   "metadata": {},
   "outputs": [
    {
     "data": {
      "text/plain": [
       "Model_Year                     int64\n",
       "Make                          object\n",
       "Model                         object\n",
       "Vehicle_Class                 object\n",
       "Engine_Size (L)              float64\n",
       "Cylinders                      int64\n",
       "Transmission                  object\n",
       "Fuel_Type                     object\n",
       "Fuel_Consumption_City        float64\n",
       "Fuel_Consumption_Hwy         float64\n",
       "Fuel_Consumption_Comb        float64\n",
       "Fuel_Consumption_Comb_MPG      int64\n",
       "CO2_Emissions                  int64\n",
       "CO2_Rating                     int64\n",
       "Smog_Rating                    int64\n",
       "dtype: object"
      ]
     },
     "execution_count": 7,
     "metadata": {},
     "output_type": "execute_result"
    }
   ],
   "source": [
    "# Data types in the data set\n",
    "df.dtypes"
   ]
  },
  {
   "cell_type": "code",
   "execution_count": 8,
   "metadata": {},
   "outputs": [
    {
     "name": "stdout",
     "output_type": "stream",
     "text": [
      "Model_Year , n(missing values) =  0.0 , unique values =  1\n",
      "\n",
      "Make , n(missing values) =  0.0 , unique values =  39\n",
      "\n",
      "Model , n(missing values) =  0.0 , unique values =  746\n",
      "\n",
      "Vehicle_Class , n(missing values) =  0.0 , unique values =  15\n",
      "\n",
      "Engine_Size (L) , n(missing values) =  0.0 , unique values =  43\n",
      "\n",
      "Cylinders , n(missing values) =  0.0 , unique values =  8\n",
      "\n",
      "Transmission , n(missing values) =  0.0 , unique values =  25\n",
      "\n",
      "Fuel_Type , n(missing values) =  0.0 , unique values =  4\n",
      "\n",
      "Fuel_Consumption_City , n(missing values) =  0.0 , unique values =  158\n",
      "\n",
      "Fuel_Consumption_Hwy , n(missing values) =  0.0 , unique values =  104\n",
      "\n",
      "Fuel_Consumption_Comb , n(missing values) =  0.0 , unique values =  134\n",
      "\n",
      "Fuel_Consumption_Comb_MPG , n(missing values) =  0.0 , unique values =  46\n",
      "\n",
      "CO2_Emissions , n(missing values) =  0.0 , unique values =  232\n",
      "\n",
      "CO2_Rating , n(missing values) =  0.0 , unique values =  10\n",
      "\n",
      "Smog_Rating , n(missing values) =  0.0 , unique values =  5\n",
      "\n"
     ]
    }
   ],
   "source": [
    "for column in df.columns:\n",
    "    print(column, \", n(missing values) = \", df[column].isnull().values.sum()*100/len(df), \", unique values = \", df[column].nunique())\n",
    "    print(\"\")"
   ]
  },
  {
   "cell_type": "markdown",
   "metadata": {},
   "source": [
    "__Model_Year__ are the same as the data is from 2019"
   ]
  },
  {
   "cell_type": "code",
   "execution_count": 9,
   "metadata": {},
   "outputs": [
    {
     "data": {
      "text/html": [
       "<div>\n",
       "<style scoped>\n",
       "    .dataframe tbody tr th:only-of-type {\n",
       "        vertical-align: middle;\n",
       "    }\n",
       "\n",
       "    .dataframe tbody tr th {\n",
       "        vertical-align: top;\n",
       "    }\n",
       "\n",
       "    .dataframe thead th {\n",
       "        text-align: right;\n",
       "    }\n",
       "</style>\n",
       "<table border=\"1\" class=\"dataframe\">\n",
       "  <thead>\n",
       "    <tr style=\"text-align: right;\">\n",
       "      <th></th>\n",
       "      <th>Engine_Size (L)</th>\n",
       "      <th>Cylinders</th>\n",
       "      <th>Fuel_Consumption_Comb</th>\n",
       "      <th>CO2_Emissions</th>\n",
       "      <th>CO2_Rating</th>\n",
       "      <th>Smog_Rating</th>\n",
       "    </tr>\n",
       "  </thead>\n",
       "  <tbody>\n",
       "    <tr>\n",
       "      <th>0</th>\n",
       "      <td>2.4</td>\n",
       "      <td>4</td>\n",
       "      <td>8.6</td>\n",
       "      <td>199</td>\n",
       "      <td>6</td>\n",
       "      <td>3</td>\n",
       "    </tr>\n",
       "    <tr>\n",
       "      <th>1</th>\n",
       "      <td>3.5</td>\n",
       "      <td>6</td>\n",
       "      <td>10.8</td>\n",
       "      <td>252</td>\n",
       "      <td>4</td>\n",
       "      <td>3</td>\n",
       "    </tr>\n",
       "    <tr>\n",
       "      <th>2</th>\n",
       "      <td>3.5</td>\n",
       "      <td>6</td>\n",
       "      <td>11.0</td>\n",
       "      <td>258</td>\n",
       "      <td>4</td>\n",
       "      <td>3</td>\n",
       "    </tr>\n",
       "    <tr>\n",
       "      <th>3</th>\n",
       "      <td>3.0</td>\n",
       "      <td>6</td>\n",
       "      <td>9.0</td>\n",
       "      <td>210</td>\n",
       "      <td>5</td>\n",
       "      <td>3</td>\n",
       "    </tr>\n",
       "    <tr>\n",
       "      <th>4</th>\n",
       "      <td>3.5</td>\n",
       "      <td>6</td>\n",
       "      <td>11.0</td>\n",
       "      <td>261</td>\n",
       "      <td>4</td>\n",
       "      <td>3</td>\n",
       "    </tr>\n",
       "    <tr>\n",
       "      <th>5</th>\n",
       "      <td>2.0</td>\n",
       "      <td>4</td>\n",
       "      <td>9.9</td>\n",
       "      <td>232</td>\n",
       "      <td>5</td>\n",
       "      <td>6</td>\n",
       "    </tr>\n",
       "    <tr>\n",
       "      <th>6</th>\n",
       "      <td>2.0</td>\n",
       "      <td>4</td>\n",
       "      <td>10.3</td>\n",
       "      <td>242</td>\n",
       "      <td>5</td>\n",
       "      <td>6</td>\n",
       "    </tr>\n",
       "    <tr>\n",
       "      <th>7</th>\n",
       "      <td>3.5</td>\n",
       "      <td>6</td>\n",
       "      <td>8.4</td>\n",
       "      <td>196</td>\n",
       "      <td>6</td>\n",
       "      <td>7</td>\n",
       "    </tr>\n",
       "    <tr>\n",
       "      <th>8</th>\n",
       "      <td>2.4</td>\n",
       "      <td>4</td>\n",
       "      <td>8.7</td>\n",
       "      <td>205</td>\n",
       "      <td>6</td>\n",
       "      <td>3</td>\n",
       "    </tr>\n",
       "    <tr>\n",
       "      <th>9</th>\n",
       "      <td>2.4</td>\n",
       "      <td>4</td>\n",
       "      <td>8.9</td>\n",
       "      <td>209</td>\n",
       "      <td>5</td>\n",
       "      <td>3</td>\n",
       "    </tr>\n",
       "  </tbody>\n",
       "</table>\n",
       "</div>"
      ],
      "text/plain": [
       "   Engine_Size (L)  Cylinders  Fuel_Consumption_Comb  CO2_Emissions  \\\n",
       "0              2.4          4                    8.6            199   \n",
       "1              3.5          6                   10.8            252   \n",
       "2              3.5          6                   11.0            258   \n",
       "3              3.0          6                    9.0            210   \n",
       "4              3.5          6                   11.0            261   \n",
       "5              2.0          4                    9.9            232   \n",
       "6              2.0          4                   10.3            242   \n",
       "7              3.5          6                    8.4            196   \n",
       "8              2.4          4                    8.7            205   \n",
       "9              2.4          4                    8.9            209   \n",
       "\n",
       "   CO2_Rating  Smog_Rating  \n",
       "0           6            3  \n",
       "1           4            3  \n",
       "2           4            3  \n",
       "3           5            3  \n",
       "4           4            3  \n",
       "5           5            6  \n",
       "6           5            6  \n",
       "7           6            7  \n",
       "8           6            3  \n",
       "9           5            3  "
      ]
     },
     "execution_count": 9,
     "metadata": {},
     "output_type": "execute_result"
    }
   ],
   "source": [
    "cdf = df[['Engine_Size (L)', 'Cylinders', 'Fuel_Consumption_Comb', 'CO2_Emissions', 'CO2_Rating', 'Smog_Rating']]\n",
    "cdf.head(10)"
   ]
  },
  {
   "cell_type": "code",
   "execution_count": 10,
   "metadata": {},
   "outputs": [
    {
     "data": {
      "text/html": [
       "<div>\n",
       "<style scoped>\n",
       "    .dataframe tbody tr th:only-of-type {\n",
       "        vertical-align: middle;\n",
       "    }\n",
       "\n",
       "    .dataframe tbody tr th {\n",
       "        vertical-align: top;\n",
       "    }\n",
       "\n",
       "    .dataframe thead th {\n",
       "        text-align: right;\n",
       "    }\n",
       "</style>\n",
       "<table border=\"1\" class=\"dataframe\">\n",
       "  <thead>\n",
       "    <tr style=\"text-align: right;\">\n",
       "      <th></th>\n",
       "      <th>Engine_Size (L)</th>\n",
       "      <th>Cylinders</th>\n",
       "      <th>Fuel_Consumption_Comb</th>\n",
       "      <th>CO2_Emissions</th>\n",
       "      <th>CO2_Rating</th>\n",
       "      <th>Smog_Rating</th>\n",
       "    </tr>\n",
       "  </thead>\n",
       "  <tbody>\n",
       "    <tr>\n",
       "      <th>Engine_Size (L)</th>\n",
       "      <td>1.000000</td>\n",
       "      <td>0.923427</td>\n",
       "      <td>0.823032</td>\n",
       "      <td>0.840859</td>\n",
       "      <td>-0.767764</td>\n",
       "      <td>-0.404807</td>\n",
       "    </tr>\n",
       "    <tr>\n",
       "      <th>Cylinders</th>\n",
       "      <td>0.923427</td>\n",
       "      <td>1.000000</td>\n",
       "      <td>0.794233</td>\n",
       "      <td>0.820961</td>\n",
       "      <td>-0.740378</td>\n",
       "      <td>-0.406815</td>\n",
       "    </tr>\n",
       "    <tr>\n",
       "      <th>Fuel_Consumption_Comb</th>\n",
       "      <td>0.823032</td>\n",
       "      <td>0.794233</td>\n",
       "      <td>1.000000</td>\n",
       "      <td>0.936416</td>\n",
       "      <td>-0.898638</td>\n",
       "      <td>-0.418651</td>\n",
       "    </tr>\n",
       "    <tr>\n",
       "      <th>CO2_Emissions</th>\n",
       "      <td>0.840859</td>\n",
       "      <td>0.820961</td>\n",
       "      <td>0.936416</td>\n",
       "      <td>1.000000</td>\n",
       "      <td>-0.954077</td>\n",
       "      <td>-0.448520</td>\n",
       "    </tr>\n",
       "    <tr>\n",
       "      <th>CO2_Rating</th>\n",
       "      <td>-0.767764</td>\n",
       "      <td>-0.740378</td>\n",
       "      <td>-0.898638</td>\n",
       "      <td>-0.954077</td>\n",
       "      <td>1.000000</td>\n",
       "      <td>0.429036</td>\n",
       "    </tr>\n",
       "    <tr>\n",
       "      <th>Smog_Rating</th>\n",
       "      <td>-0.404807</td>\n",
       "      <td>-0.406815</td>\n",
       "      <td>-0.418651</td>\n",
       "      <td>-0.448520</td>\n",
       "      <td>0.429036</td>\n",
       "      <td>1.000000</td>\n",
       "    </tr>\n",
       "  </tbody>\n",
       "</table>\n",
       "</div>"
      ],
      "text/plain": [
       "                       Engine_Size (L)  Cylinders  Fuel_Consumption_Comb  \\\n",
       "Engine_Size (L)               1.000000   0.923427               0.823032   \n",
       "Cylinders                     0.923427   1.000000               0.794233   \n",
       "Fuel_Consumption_Comb         0.823032   0.794233               1.000000   \n",
       "CO2_Emissions                 0.840859   0.820961               0.936416   \n",
       "CO2_Rating                   -0.767764  -0.740378              -0.898638   \n",
       "Smog_Rating                  -0.404807  -0.406815              -0.418651   \n",
       "\n",
       "                       CO2_Emissions  CO2_Rating  Smog_Rating  \n",
       "Engine_Size (L)             0.840859   -0.767764    -0.404807  \n",
       "Cylinders                   0.820961   -0.740378    -0.406815  \n",
       "Fuel_Consumption_Comb       0.936416   -0.898638    -0.418651  \n",
       "CO2_Emissions               1.000000   -0.954077    -0.448520  \n",
       "CO2_Rating                 -0.954077    1.000000     0.429036  \n",
       "Smog_Rating                -0.448520    0.429036     1.000000  "
      ]
     },
     "execution_count": 10,
     "metadata": {},
     "output_type": "execute_result"
    }
   ],
   "source": [
    "correlation_matrix = cdf.corr()\n",
    "correlation_matrix"
   ]
  },
  {
   "cell_type": "code",
   "execution_count": 11,
   "metadata": {},
   "outputs": [
    {
     "data": {
      "text/html": [
       "<style  type=\"text/css\" >\n",
       "    #T_34aae036_4105_11ea_8967_bf838c2dd4ddrow0_col0 {\n",
       "            background-color:  #b40426;\n",
       "            color:  #f1f1f1;\n",
       "        }    #T_34aae036_4105_11ea_8967_bf838c2dd4ddrow0_col1 {\n",
       "            background-color:  #c43032;\n",
       "            color:  #f1f1f1;\n",
       "        }    #T_34aae036_4105_11ea_8967_bf838c2dd4ddrow0_col2 {\n",
       "            background-color:  #d44e41;\n",
       "            color:  #000000;\n",
       "        }    #T_34aae036_4105_11ea_8967_bf838c2dd4ddrow0_col3 {\n",
       "            background-color:  #d0473d;\n",
       "            color:  #f1f1f1;\n",
       "        }    #T_34aae036_4105_11ea_8967_bf838c2dd4ddrow0_col4 {\n",
       "            background-color:  #5875e1;\n",
       "            color:  #000000;\n",
       "        }    #T_34aae036_4105_11ea_8967_bf838c2dd4ddrow0_col5 {\n",
       "            background-color:  #4358cb;\n",
       "            color:  #f1f1f1;\n",
       "        }    #T_34aae036_4105_11ea_8967_bf838c2dd4ddrow1_col0 {\n",
       "            background-color:  #c43032;\n",
       "            color:  #f1f1f1;\n",
       "        }    #T_34aae036_4105_11ea_8967_bf838c2dd4ddrow1_col1 {\n",
       "            background-color:  #b40426;\n",
       "            color:  #f1f1f1;\n",
       "        }    #T_34aae036_4105_11ea_8967_bf838c2dd4ddrow1_col2 {\n",
       "            background-color:  #d85646;\n",
       "            color:  #000000;\n",
       "        }    #T_34aae036_4105_11ea_8967_bf838c2dd4ddrow1_col3 {\n",
       "            background-color:  #d44e41;\n",
       "            color:  #000000;\n",
       "        }    #T_34aae036_4105_11ea_8967_bf838c2dd4ddrow1_col4 {\n",
       "            background-color:  #5b7ae5;\n",
       "            color:  #000000;\n",
       "        }    #T_34aae036_4105_11ea_8967_bf838c2dd4ddrow1_col5 {\n",
       "            background-color:  #4358cb;\n",
       "            color:  #f1f1f1;\n",
       "        }    #T_34aae036_4105_11ea_8967_bf838c2dd4ddrow2_col0 {\n",
       "            background-color:  #d65244;\n",
       "            color:  #000000;\n",
       "        }    #T_34aae036_4105_11ea_8967_bf838c2dd4ddrow2_col1 {\n",
       "            background-color:  #dc5d4a;\n",
       "            color:  #000000;\n",
       "        }    #T_34aae036_4105_11ea_8967_bf838c2dd4ddrow2_col2 {\n",
       "            background-color:  #b40426;\n",
       "            color:  #f1f1f1;\n",
       "        }    #T_34aae036_4105_11ea_8967_bf838c2dd4ddrow2_col3 {\n",
       "            background-color:  #c0282f;\n",
       "            color:  #f1f1f1;\n",
       "        }    #T_34aae036_4105_11ea_8967_bf838c2dd4ddrow2_col4 {\n",
       "            background-color:  #4358cb;\n",
       "            color:  #f1f1f1;\n",
       "        }    #T_34aae036_4105_11ea_8967_bf838c2dd4ddrow2_col5 {\n",
       "            background-color:  #4055c8;\n",
       "            color:  #f1f1f1;\n",
       "        }    #T_34aae036_4105_11ea_8967_bf838c2dd4ddrow3_col0 {\n",
       "            background-color:  #d44e41;\n",
       "            color:  #000000;\n",
       "        }    #T_34aae036_4105_11ea_8967_bf838c2dd4ddrow3_col1 {\n",
       "            background-color:  #d75445;\n",
       "            color:  #000000;\n",
       "        }    #T_34aae036_4105_11ea_8967_bf838c2dd4ddrow3_col2 {\n",
       "            background-color:  #c0282f;\n",
       "            color:  #f1f1f1;\n",
       "        }    #T_34aae036_4105_11ea_8967_bf838c2dd4ddrow3_col3 {\n",
       "            background-color:  #b40426;\n",
       "            color:  #f1f1f1;\n",
       "        }    #T_34aae036_4105_11ea_8967_bf838c2dd4ddrow3_col4 {\n",
       "            background-color:  #3b4cc0;\n",
       "            color:  #f1f1f1;\n",
       "        }    #T_34aae036_4105_11ea_8967_bf838c2dd4ddrow3_col5 {\n",
       "            background-color:  #3b4cc0;\n",
       "            color:  #f1f1f1;\n",
       "        }    #T_34aae036_4105_11ea_8967_bf838c2dd4ddrow4_col0 {\n",
       "            background-color:  #3b4cc0;\n",
       "            color:  #f1f1f1;\n",
       "        }    #T_34aae036_4105_11ea_8967_bf838c2dd4ddrow4_col1 {\n",
       "            background-color:  #3b4cc0;\n",
       "            color:  #f1f1f1;\n",
       "        }    #T_34aae036_4105_11ea_8967_bf838c2dd4ddrow4_col2 {\n",
       "            background-color:  #3b4cc0;\n",
       "            color:  #f1f1f1;\n",
       "        }    #T_34aae036_4105_11ea_8967_bf838c2dd4ddrow4_col3 {\n",
       "            background-color:  #3b4cc0;\n",
       "            color:  #f1f1f1;\n",
       "        }    #T_34aae036_4105_11ea_8967_bf838c2dd4ddrow4_col4 {\n",
       "            background-color:  #b40426;\n",
       "            color:  #f1f1f1;\n",
       "        }    #T_34aae036_4105_11ea_8967_bf838c2dd4ddrow4_col5 {\n",
       "            background-color:  #f2c9b4;\n",
       "            color:  #000000;\n",
       "        }    #T_34aae036_4105_11ea_8967_bf838c2dd4ddrow5_col0 {\n",
       "            background-color:  #7da0f9;\n",
       "            color:  #000000;\n",
       "        }    #T_34aae036_4105_11ea_8967_bf838c2dd4ddrow5_col1 {\n",
       "            background-color:  #799cf8;\n",
       "            color:  #000000;\n",
       "        }    #T_34aae036_4105_11ea_8967_bf838c2dd4ddrow5_col2 {\n",
       "            background-color:  #8db0fe;\n",
       "            color:  #000000;\n",
       "        }    #T_34aae036_4105_11ea_8967_bf838c2dd4ddrow5_col3 {\n",
       "            background-color:  #90b2fe;\n",
       "            color:  #000000;\n",
       "        }    #T_34aae036_4105_11ea_8967_bf838c2dd4ddrow5_col4 {\n",
       "            background-color:  #f7a98b;\n",
       "            color:  #000000;\n",
       "        }    #T_34aae036_4105_11ea_8967_bf838c2dd4ddrow5_col5 {\n",
       "            background-color:  #b40426;\n",
       "            color:  #f1f1f1;\n",
       "        }</style><table id=\"T_34aae036_4105_11ea_8967_bf838c2dd4dd\" ><thead>    <tr>        <th class=\"blank level0\" ></th>        <th class=\"col_heading level0 col0\" >Engine_Size (L)</th>        <th class=\"col_heading level0 col1\" >Cylinders</th>        <th class=\"col_heading level0 col2\" >Fuel_Consumption_Comb</th>        <th class=\"col_heading level0 col3\" >CO2_Emissions</th>        <th class=\"col_heading level0 col4\" >CO2_Rating</th>        <th class=\"col_heading level0 col5\" >Smog_Rating</th>    </tr></thead><tbody>\n",
       "                <tr>\n",
       "                        <th id=\"T_34aae036_4105_11ea_8967_bf838c2dd4ddlevel0_row0\" class=\"row_heading level0 row0\" >Engine_Size (L)</th>\n",
       "                        <td id=\"T_34aae036_4105_11ea_8967_bf838c2dd4ddrow0_col0\" class=\"data row0 col0\" >1</td>\n",
       "                        <td id=\"T_34aae036_4105_11ea_8967_bf838c2dd4ddrow0_col1\" class=\"data row0 col1\" >0.923427</td>\n",
       "                        <td id=\"T_34aae036_4105_11ea_8967_bf838c2dd4ddrow0_col2\" class=\"data row0 col2\" >0.823032</td>\n",
       "                        <td id=\"T_34aae036_4105_11ea_8967_bf838c2dd4ddrow0_col3\" class=\"data row0 col3\" >0.840859</td>\n",
       "                        <td id=\"T_34aae036_4105_11ea_8967_bf838c2dd4ddrow0_col4\" class=\"data row0 col4\" >-0.767764</td>\n",
       "                        <td id=\"T_34aae036_4105_11ea_8967_bf838c2dd4ddrow0_col5\" class=\"data row0 col5\" >-0.404807</td>\n",
       "            </tr>\n",
       "            <tr>\n",
       "                        <th id=\"T_34aae036_4105_11ea_8967_bf838c2dd4ddlevel0_row1\" class=\"row_heading level0 row1\" >Cylinders</th>\n",
       "                        <td id=\"T_34aae036_4105_11ea_8967_bf838c2dd4ddrow1_col0\" class=\"data row1 col0\" >0.923427</td>\n",
       "                        <td id=\"T_34aae036_4105_11ea_8967_bf838c2dd4ddrow1_col1\" class=\"data row1 col1\" >1</td>\n",
       "                        <td id=\"T_34aae036_4105_11ea_8967_bf838c2dd4ddrow1_col2\" class=\"data row1 col2\" >0.794233</td>\n",
       "                        <td id=\"T_34aae036_4105_11ea_8967_bf838c2dd4ddrow1_col3\" class=\"data row1 col3\" >0.820961</td>\n",
       "                        <td id=\"T_34aae036_4105_11ea_8967_bf838c2dd4ddrow1_col4\" class=\"data row1 col4\" >-0.740378</td>\n",
       "                        <td id=\"T_34aae036_4105_11ea_8967_bf838c2dd4ddrow1_col5\" class=\"data row1 col5\" >-0.406815</td>\n",
       "            </tr>\n",
       "            <tr>\n",
       "                        <th id=\"T_34aae036_4105_11ea_8967_bf838c2dd4ddlevel0_row2\" class=\"row_heading level0 row2\" >Fuel_Consumption_Comb</th>\n",
       "                        <td id=\"T_34aae036_4105_11ea_8967_bf838c2dd4ddrow2_col0\" class=\"data row2 col0\" >0.823032</td>\n",
       "                        <td id=\"T_34aae036_4105_11ea_8967_bf838c2dd4ddrow2_col1\" class=\"data row2 col1\" >0.794233</td>\n",
       "                        <td id=\"T_34aae036_4105_11ea_8967_bf838c2dd4ddrow2_col2\" class=\"data row2 col2\" >1</td>\n",
       "                        <td id=\"T_34aae036_4105_11ea_8967_bf838c2dd4ddrow2_col3\" class=\"data row2 col3\" >0.936416</td>\n",
       "                        <td id=\"T_34aae036_4105_11ea_8967_bf838c2dd4ddrow2_col4\" class=\"data row2 col4\" >-0.898638</td>\n",
       "                        <td id=\"T_34aae036_4105_11ea_8967_bf838c2dd4ddrow2_col5\" class=\"data row2 col5\" >-0.418651</td>\n",
       "            </tr>\n",
       "            <tr>\n",
       "                        <th id=\"T_34aae036_4105_11ea_8967_bf838c2dd4ddlevel0_row3\" class=\"row_heading level0 row3\" >CO2_Emissions</th>\n",
       "                        <td id=\"T_34aae036_4105_11ea_8967_bf838c2dd4ddrow3_col0\" class=\"data row3 col0\" >0.840859</td>\n",
       "                        <td id=\"T_34aae036_4105_11ea_8967_bf838c2dd4ddrow3_col1\" class=\"data row3 col1\" >0.820961</td>\n",
       "                        <td id=\"T_34aae036_4105_11ea_8967_bf838c2dd4ddrow3_col2\" class=\"data row3 col2\" >0.936416</td>\n",
       "                        <td id=\"T_34aae036_4105_11ea_8967_bf838c2dd4ddrow3_col3\" class=\"data row3 col3\" >1</td>\n",
       "                        <td id=\"T_34aae036_4105_11ea_8967_bf838c2dd4ddrow3_col4\" class=\"data row3 col4\" >-0.954077</td>\n",
       "                        <td id=\"T_34aae036_4105_11ea_8967_bf838c2dd4ddrow3_col5\" class=\"data row3 col5\" >-0.44852</td>\n",
       "            </tr>\n",
       "            <tr>\n",
       "                        <th id=\"T_34aae036_4105_11ea_8967_bf838c2dd4ddlevel0_row4\" class=\"row_heading level0 row4\" >CO2_Rating</th>\n",
       "                        <td id=\"T_34aae036_4105_11ea_8967_bf838c2dd4ddrow4_col0\" class=\"data row4 col0\" >-0.767764</td>\n",
       "                        <td id=\"T_34aae036_4105_11ea_8967_bf838c2dd4ddrow4_col1\" class=\"data row4 col1\" >-0.740378</td>\n",
       "                        <td id=\"T_34aae036_4105_11ea_8967_bf838c2dd4ddrow4_col2\" class=\"data row4 col2\" >-0.898638</td>\n",
       "                        <td id=\"T_34aae036_4105_11ea_8967_bf838c2dd4ddrow4_col3\" class=\"data row4 col3\" >-0.954077</td>\n",
       "                        <td id=\"T_34aae036_4105_11ea_8967_bf838c2dd4ddrow4_col4\" class=\"data row4 col4\" >1</td>\n",
       "                        <td id=\"T_34aae036_4105_11ea_8967_bf838c2dd4ddrow4_col5\" class=\"data row4 col5\" >0.429036</td>\n",
       "            </tr>\n",
       "            <tr>\n",
       "                        <th id=\"T_34aae036_4105_11ea_8967_bf838c2dd4ddlevel0_row5\" class=\"row_heading level0 row5\" >Smog_Rating</th>\n",
       "                        <td id=\"T_34aae036_4105_11ea_8967_bf838c2dd4ddrow5_col0\" class=\"data row5 col0\" >-0.404807</td>\n",
       "                        <td id=\"T_34aae036_4105_11ea_8967_bf838c2dd4ddrow5_col1\" class=\"data row5 col1\" >-0.406815</td>\n",
       "                        <td id=\"T_34aae036_4105_11ea_8967_bf838c2dd4ddrow5_col2\" class=\"data row5 col2\" >-0.418651</td>\n",
       "                        <td id=\"T_34aae036_4105_11ea_8967_bf838c2dd4ddrow5_col3\" class=\"data row5 col3\" >-0.44852</td>\n",
       "                        <td id=\"T_34aae036_4105_11ea_8967_bf838c2dd4ddrow5_col4\" class=\"data row5 col4\" >0.429036</td>\n",
       "                        <td id=\"T_34aae036_4105_11ea_8967_bf838c2dd4ddrow5_col5\" class=\"data row5 col5\" >1</td>\n",
       "            </tr>\n",
       "    </tbody></table>"
      ],
      "text/plain": [
       "<pandas.io.formats.style.Styler at 0x7f208fcda2b0>"
      ]
     },
     "execution_count": 11,
     "metadata": {},
     "output_type": "execute_result"
    }
   ],
   "source": [
    "corr = correlation_matrix.iloc[:6, :6]\n",
    "corr.style.background_gradient(cmap='coolwarm')"
   ]
  },
  {
   "cell_type": "markdown",
   "metadata": {},
   "source": [
    "#### Engine_Size"
   ]
  },
  {
   "cell_type": "code",
   "execution_count": 12,
   "metadata": {},
   "outputs": [
    {
     "data": {
      "image/png": "[encoded data removed]",
      "text/plain": [
       "<Figure size 432x288 with 1 Axes>"
      ]
     },
     "metadata": {
      "needs_background": "light"
     },
     "output_type": "display_data"
    }
   ],
   "source": [
    "plt.scatter(cdf['Engine_Size (L)'], cdf['CO2_Emissions'], color='blue')\n",
    "plt.xlabel(\"Engine Size (L)\")\n",
    "plt.ylabel(\"CO2_Emission\")\n",
    "plt.show()"
   ]
  },
  {
   "cell_type": "code",
   "execution_count": 13,
   "metadata": {},
   "outputs": [
    {
     "data": {
      "image/png": "[encoded data removed]",
      "text/plain": [
       "<Figure size 432x288 with 1 Axes>"
      ]
     },
     "metadata": {
      "needs_background": "light"
     },
     "output_type": "display_data"
    }
   ],
   "source": [
    "plt.scatter(cdf['Engine_Size (L)'], cdf['CO2_Rating'], color='blue')\n",
    "plt.xlabel(\"Engine Size (L)\")\n",
    "plt.ylabel(\"CO2_Rating\")\n",
    "plt.show()"
   ]
  },
  {
   "cell_type": "code",
   "execution_count": 14,
   "metadata": {},
   "outputs": [
    {
     "data": {
      "image/png": "[encoded data removed]",
      "text/plain": [
       "<Figure size 432x288 with 1 Axes>"
      ]
     },
     "metadata": {
      "needs_background": "light"
     },
     "output_type": "display_data"
    }
   ],
   "source": [
    "plt.scatter(cdf['Engine_Size (L)'], cdf['Smog_Rating'], color='blue')\n",
    "plt.xlabel(\"Engine Size (L)\")\n",
    "plt.ylabel(\"Smog_Rating\")\n",
    "plt.show()"
   ]
  },
  {
   "cell_type": "markdown",
   "metadata": {},
   "source": [
    "#### Cylinders"
   ]
  },
  {
   "cell_type": "code",
   "execution_count": 15,
   "metadata": {},
   "outputs": [
    {
     "data": {
      "image/png": "[encoded data removed]",
      "text/plain": [
       "<Figure size 432x288 with 1 Axes>"
      ]
     },
     "metadata": {
      "needs_background": "light"
     },
     "output_type": "display_data"
    }
   ],
   "source": [
    "plt.scatter(cdf['Cylinders'], cdf['CO2_Emissions'], color='red')\n",
    "plt.xlabel(\"Cylinders\")\n",
    "plt.ylabel(\"CO2_Emissions\")\n",
    "plt.show()"
   ]
  },
  {
   "cell_type": "code",
   "execution_count": 16,
   "metadata": {},
   "outputs": [
    {
     "data": {
      "image/png": "[encoded data removed]",
      "text/plain": [
       "<Figure size 432x288 with 1 Axes>"
      ]
     },
     "metadata": {
      "needs_background": "light"
     },
     "output_type": "display_data"
    }
   ],
   "source": [
    "plt.scatter(cdf['Cylinders'], cdf['CO2_Rating'], color='red')\n",
    "plt.xlabel(\"Cylinders\")\n",
    "plt.ylabel(\"CO2_Rating\")\n",
    "plt.show()"
   ]
  },
  {
   "cell_type": "code",
   "execution_count": 17,
   "metadata": {},
   "outputs": [
    {
     "data": {
      "image/png": "[encoded data removed]",
      "text/plain": [
       "<Figure size 432x288 with 1 Axes>"
      ]
     },
     "metadata": {
      "needs_background": "light"
     },
     "output_type": "display_data"
    }
   ],
   "source": [
    "plt.scatter(cdf['Cylinders'], cdf['Smog_Rating'], color='red')\n",
    "plt.xlabel(\"Cylinders\")\n",
    "plt.ylabel(\"Smog Rating\")\n",
    "plt.show()"
   ]
  },
  {
   "cell_type": "markdown",
   "metadata": {},
   "source": [
    "#### Fuel Consumption Combined"
   ]
  },
  {
   "cell_type": "code",
   "execution_count": 18,
   "metadata": {},
   "outputs": [
    {
     "data": {
      "image/png": "[encoded data removed]",
      "text/plain": [
       "<Figure size 432x288 with 1 Axes>"
      ]
     },
     "metadata": {
      "needs_background": "light"
     },
     "output_type": "display_data"
    }
   ],
   "source": [
    "plt.scatter(cdf['Fuel_Consumption_Comb'], cdf['CO2_Emissions'], color='yellow')\n",
    "plt.xlabel(\"Fuel_Consumption_Comb\")\n",
    "plt.ylabel(\"CO2_Emission\")\n",
    "plt.show()"
   ]
  },
  {
   "cell_type": "code",
   "execution_count": 19,
   "metadata": {},
   "outputs": [
    {
     "data": {
      "image/png": "[encoded data removed]",
      "text/plain": [
       "<Figure size 432x288 with 1 Axes>"
      ]
     },
     "metadata": {
      "needs_background": "light"
     },
     "output_type": "display_data"
    }
   ],
   "source": [
    "plt.scatter(cdf['Fuel_Consumption_Comb'], cdf['CO2_Rating'], color='yellow')\n",
    "plt.xlabel(\"Fuel_Consumption_Comb\")\n",
    "plt.ylabel(\"CO2_Rating\")\n",
    "plt.show()"
   ]
  },
  {
   "cell_type": "code",
   "execution_count": 20,
   "metadata": {},
   "outputs": [
    {
     "data": {
      "image/png": "[encoded data removed]",
      "text/plain": [
       "<Figure size 432x288 with 1 Axes>"
      ]
     },
     "metadata": {
      "needs_background": "light"
     },
     "output_type": "display_data"
    }
   ],
   "source": [
    "plt.scatter(cdf['Fuel_Consumption_Comb'], cdf['Smog_Rating'], color='yellow')\n",
    "plt.xlabel(\"Fuel_Consumption_Comb\")\n",
    "plt.ylabel(\"Smog_Rating\")\n",
    "plt.show()"
   ]
  },
  {
   "cell_type": "markdown",
   "metadata": {},
   "source": [
    "__Engine_Size__ __(L)__ shows a positive linear relationship with Co2_Emissions after plotting the scatter plot"
   ]
  },
  {
   "cell_type": "markdown",
   "metadata": {},
   "source": [
    "### Train-Test-Split"
   ]
  },
  {
   "cell_type": "markdown",
   "metadata": {},
   "source": [
    "#### To use scikit-learn library, we have to convert the Pandas data frame to a Numpy array.\n",
    "It is mandatory to convert into numpy array "
   ]
  },
  {
   "cell_type": "code",
   "execution_count": 21,
   "metadata": {},
   "outputs": [
    {
     "data": {
      "text/plain": [
       "array([[2.4],\n",
       "       [3.5],\n",
       "       [3.5],\n",
       "       [3. ],\n",
       "       [3.5]])"
      ]
     },
     "execution_count": 21,
     "metadata": {},
     "output_type": "execute_result"
    }
   ],
   "source": [
    "X = cdf[['Engine_Size (L)']].values\n",
    "X[0:5]"
   ]
  },
  {
   "cell_type": "code",
   "execution_count": 22,
   "metadata": {},
   "outputs": [
    {
     "data": {
      "text/plain": [
       "array([[199],\n",
       "       [252],\n",
       "       [258],\n",
       "       [210],\n",
       "       [261]])"
      ]
     },
     "execution_count": 22,
     "metadata": {},
     "output_type": "execute_result"
    }
   ],
   "source": [
    "y = cdf[['CO2_Emissions']] .values\n",
    "y[0:5]"
   ]
  },
  {
   "cell_type": "code",
   "execution_count": 23,
   "metadata": {},
   "outputs": [],
   "source": [
    "from sklearn.model_selection import train_test_split, cross_val_score"
   ]
  },
  {
   "cell_type": "code",
   "execution_count": 24,
   "metadata": {},
   "outputs": [],
   "source": [
    "X_train, X_test, y_train, y_test = train_test_split(X, y, test_size=0.25, random_state=0)"
   ]
  },
  {
   "cell_type": "markdown",
   "metadata": {},
   "source": [
    "### Simple Linear Regression"
   ]
  },
  {
   "cell_type": "markdown",
   "metadata": {},
   "source": [
    "#### Train data distribution"
   ]
  },
  {
   "cell_type": "code",
   "execution_count": 25,
   "metadata": {},
   "outputs": [
    {
     "data": {
      "image/png": "[encoded data removed]",
      "text/plain": [
       "<Figure size 432x288 with 1 Axes>"
      ]
     },
     "metadata": {
      "needs_background": "light"
     },
     "output_type": "display_data"
    }
   ],
   "source": [
    "plt.scatter(cdf['Engine_Size (L)'], cdf['CO2_Emissions'], color='blue')\n",
    "plt.xlabel(\"Engine Size (L)\")\n",
    "plt.ylabel(\"C02 Emissions\")\n",
    "plt.show()"
   ]
  },
  {
   "cell_type": "markdown",
   "metadata": {},
   "source": [
    "__Modelling__"
   ]
  },
  {
   "cell_type": "code",
   "execution_count": 26,
   "metadata": {},
   "outputs": [],
   "source": [
    "from sklearn.linear_model import LinearRegression"
   ]
  },
  {
   "cell_type": "code",
   "execution_count": 27,
   "metadata": {},
   "outputs": [
    {
     "name": "stdout",
     "output_type": "stream",
     "text": [
      "Slope (Coeffients)=  [[36.7243019]]\n",
      "Intercept=  [137.68131628]\n"
     ]
    }
   ],
   "source": [
    "linear_reg = LinearRegression(fit_intercept=True, copy_X=True, n_jobs=-1)\n",
    "# n_jobs assigns no. of CPU cores to be utilized for Model rendering \n",
    "linear_reg.fit(X_train, y_train)\n",
    "print(\"Slope (Coeffients)= \", linear_reg.coef_)\n",
    "print(\"Intercept= \", linear_reg.intercept_)"
   ]
  },
  {
   "cell_type": "code",
   "execution_count": 28,
   "metadata": {},
   "outputs": [
    {
     "name": "stdout",
     "output_type": "stream",
     "text": [
      "Linear Regression cross validated score=  [0.68389518 0.66802128 0.69108336 0.75425206 0.7042939 ]\n"
     ]
    }
   ],
   "source": [
    "# If cv=5, it cross validates 5 times. So if cv=n, it'll cross validate n no. of times\n",
    "linear_reg_cv_score = cross_val_score(linear_reg, X_train, y_train, cv=5)\n",
    "print(\"Linear Regression cross validated score= \", linear_reg_cv_score)"
   ]
  },
  {
   "cell_type": "code",
   "execution_count": 29,
   "metadata": {},
   "outputs": [
    {
     "name": "stdout",
     "output_type": "stream",
     "text": [
      "Linear Regression cross validated score=  0.700309154125643\n"
     ]
    }
   ],
   "source": [
    "# So it's beneficial to take the mean of the cross validation score\n",
    "linear_reg_cv_score = np.mean(cross_val_score(linear_reg, X_train, y_train, cv=5))\n",
    "print(\"Linear Regression cross validated score= \", linear_reg_cv_score)"
   ]
  },
  {
   "cell_type": "markdown",
   "metadata": {},
   "source": [
    "__Plotting output__"
   ]
  },
  {
   "cell_type": "code",
   "execution_count": 46,
   "metadata": {},
   "outputs": [
    {
     "data": {
      "text/plain": [
       "Text(0, 0.5, 'CO2 Emissions')"
      ]
     },
     "execution_count": 46,
     "metadata": {},
     "output_type": "execute_result"
    },
    {
     "data": {
      "image/png": "[encoded data removed]",
      "text/plain": [
       "<Figure size 432x288 with 1 Axes>"
      ]
     },
     "metadata": {
      "needs_background": "light"
     },
     "output_type": "display_data"
    }
   ],
   "source": [
    "plt.scatter(cdf['Engine_Size (L)'], cdf['CO2_Emissions'], color='blue')\n",
    "plt.plot(X_train, linear_reg.coef_[0][0]*X_train + linear_reg.intercept_[0], '-r')\n",
    "plt.xlabel(\"Engine Size\")\n",
    "plt.ylabel(\"CO2 Emissions\")"
   ]
  },
  {
   "cell_type": "markdown",
   "metadata": {},
   "source": [
    "<img src=\"colors_matplotlib.png\" alt=\"Colors of intercept\">"
   ]
  },
  {
   "cell_type": "code",
   "execution_count": 32,
   "metadata": {},
   "outputs": [],
   "source": [
    "from sklearn.metrics import r2_score, mean_squared_error"
   ]
  },
  {
   "cell_type": "code",
   "execution_count": 41,
   "metadata": {},
   "outputs": [
    {
     "name": "stdout",
     "output_type": "stream",
     "text": [
      "Mean absolute error= 9054.58\n",
      "Mean squared error= 81985349.31\n",
      "Root mean squared error= 9261.59\n",
      "R^2 score= -28870.83\n",
      "Mean CO2_Emissions= 249.60\n"
     ]
    }
   ],
   "source": [
    "yhat = linear_reg.predict(y_test)\n",
    "\n",
    "print(\"Mean absolute error= %.2f\" %np.mean(np.absolute(yhat-y_test)))\n",
    "print(\"Mean squared error= %.2f\" %np.mean(yhat-y_test)**2)\n",
    "print(\"Root mean squared error= %.2f\" %np.sqrt(mean_squared_error(y_test, yhat)))\n",
    "print(\"R^2 score= %.2f\" %r2_score(y_test, yhat))\n",
    "print(\"Mean CO2_Emissions= %.2f\" %np.mean(y_test))"
   ]
  },
  {
   "cell_type": "code",
   "execution_count": null,
   "metadata": {},
   "outputs": [],
   "source": []
  }
 ],
 "metadata": {
  "kernelspec": {
   "display_name": "Python 3",
   "language": "python",
   "name": "python3"
  },
  "language_info": {
   "codemirror_mode": {
    "name": "ipython",
    "version": 3
   },
   "file_extension": ".py",
   "mimetype": "text/x-python",
   "name": "python",
   "nbconvert_exporter": "python",
   "pygments_lexer": "ipython3",
   "version": "3.7.3"
  }
 },
 "nbformat": 4,
 "nbformat_minor": 2
}
